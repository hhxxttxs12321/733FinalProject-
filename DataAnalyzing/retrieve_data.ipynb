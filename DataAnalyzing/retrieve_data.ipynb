{
 "cells": [
  {
   "cell_type": "code",
   "execution_count": 31,
   "id": "2fbcabd5",
   "metadata": {},
   "outputs": [],
   "source": [
    "import requests\n",
    "import pandas as pd\n",
    "from datetime import date, timedelta"
   ]
  },
  {
   "cell_type": "markdown",
   "id": "878151de",
   "metadata": {},
   "source": [
    "# Retrieve flights data"
   ]
  },
  {
   "cell_type": "code",
   "execution_count": 30,
   "id": "a9b2b404",
   "metadata": {},
   "outputs": [
    {
     "name": "stdout",
     "output_type": "stream",
     "text": [
      "['2021-12-01', '2021-12-02', '2021-12-03', '2021-12-04', '2021-12-05', '2021-12-06', '2021-12-07', '2021-12-08', '2021-12-09', '2021-12-10', '2021-12-11', '2021-12-12', '2021-12-13', '2021-12-14', '2021-12-15', '2021-12-16', '2021-12-17', '2021-12-18', '2021-12-19', '2021-12-20', '2021-12-21', '2021-12-22', '2021-12-23', '2021-12-24', '2021-12-25', '2021-12-26', '2021-12-27', '2021-12-28', '2021-12-29', '2021-12-30', '2021-12-31', '2022-01-01', '2022-01-02', '2022-01-03', '2022-01-04', '2022-01-05', '2022-01-06', '2022-01-07', '2022-01-08', '2022-01-09', '2022-01-10', '2022-01-11', '2022-01-12', '2022-01-13', '2022-01-14', '2022-01-15', '2022-01-16', '2022-01-17', '2022-01-18', '2022-01-19', '2022-01-20', '2022-01-21', '2022-01-22', '2022-01-23', '2022-01-24', '2022-01-25', '2022-01-26', '2022-01-27', '2022-01-28', '2022-01-29', '2022-01-30', '2022-01-31', '2022-02-01', '2022-02-02', '2022-02-03', '2022-02-04', '2022-02-05', '2022-02-06', '2022-02-07', '2022-02-08', '2022-02-09', '2022-02-10', '2022-02-11', '2022-02-12', '2022-02-13', '2022-02-14', '2022-02-15', '2022-02-16', '2022-02-17', '2022-02-18', '2022-02-19', '2022-02-20', '2022-02-21', '2022-02-22', '2022-02-23', '2022-02-24', '2022-02-25', '2022-02-26', '2022-02-27', '2022-02-28']\n"
     ]
    }
   ],
   "source": [
    "start_date = date(2021,12,1)   # start date\n",
    "end_date = date(2022,3,1) \n",
    "\n",
    "date_array = pandas.date_range(start_date,end_date-timedelta(days=1),freq='d')#.tolist()\n",
    "date_array = date_array.strftime('%Y-%m-%d').tolist()\n",
    "print(date_array)"
   ]
  },
  {
   "cell_type": "code",
   "execution_count": 28,
   "id": "21fa8ed3",
   "metadata": {},
   "outputs": [],
   "source": [
    "max_offset=1001\n",
    "data = []\n",
    "for a_date in date_array:\n",
    "    for cur_offset in range(0,max_offset,100):\n",
    "        params = {\n",
    "          'access_key': '9157b4a71cda79091103bc987999f47e',\n",
    "          'flight_date': a_date\n",
    "        }\n",
    "        api_result = requests.get('https://api.aviationstack.com/v1/flights?offset=' + str(cur_offset), params)\n",
    "        api_response = api_result.json()['data']\n",
    "        part_df = pd.json_normalize(api_response)\n",
    "        data.append(part_df)\n",
    "    #print('{}%'.format(100*cur_offset/(max_offset-1)))\n",
    "    \n",
    "df = pd.concat(data)\n",
    "df.to_csv('winter_2021.csv',index=False)"
   ]
  },
  {
   "cell_type": "markdown",
   "id": "09b7d7bb",
   "metadata": {},
   "source": [
    "# Retrive airports data"
   ]
  },
  {
   "cell_type": "code",
   "execution_count": 32,
   "id": "2ab05a05",
   "metadata": {},
   "outputs": [],
   "source": [
    "max_offset = 6401\n",
    "airport_data = []\n",
    "for cur_offset in range(0,max_offset,100):\n",
    "    params = {\n",
    "      'access_key': '9157b4a71cda79091103bc987999f47e',\n",
    "    }\n",
    "    api_result = requests.get('https://api.aviationstack.com/v1/airports?offset=' + str(cur_offset), params)\n",
    "    api_response = api_result.json()['data']\n",
    "    part_df = pd.json_normalize(api_response)\n",
    "    airport_data.append(part_df)\n",
    "df = pd.concat(airport_data)\n",
    "df.to_csv('airport.csv',index=False)"
   ]
  },
  {
   "cell_type": "markdown",
   "id": "3f9ffff7",
   "metadata": {},
   "source": [
    "# Retrive airlines data"
   ]
  },
  {
   "cell_type": "code",
   "execution_count": 33,
   "id": "5db36b18",
   "metadata": {},
   "outputs": [],
   "source": [
    "max_offset = 13101\n",
    "airline_data = []\n",
    "for cur_offset in range(0,max_offset,100):\n",
    "    params = {\n",
    "      'access_key': '9157b4a71cda79091103bc987999f47e',\n",
    "    }\n",
    "    api_result = requests.get('https://api.aviationstack.com/v1/airlines?offset=' + str(cur_offset), params)\n",
    "    api_response = api_result.json()['data']\n",
    "    part_df = pd.json_normalize(api_response)\n",
    "    airline_data.append(part_df)\n",
    "df = pd.concat(airline_data)\n",
    "df.to_csv('airline.csv',index=False)"
   ]
  },
  {
   "cell_type": "code",
   "execution_count": null,
   "id": "c39d5ea3",
   "metadata": {},
   "outputs": [],
   "source": []
  }
 ],
 "metadata": {
  "kernelspec": {
   "display_name": "Python 3 (ipykernel)",
   "language": "python",
   "name": "python3"
  },
  "language_info": {
   "codemirror_mode": {
    "name": "ipython",
    "version": 3
   },
   "file_extension": ".py",
   "mimetype": "text/x-python",
   "name": "python",
   "nbconvert_exporter": "python",
   "pygments_lexer": "ipython3",
   "version": "3.8.12"
  }
 },
 "nbformat": 4,
 "nbformat_minor": 5
}
